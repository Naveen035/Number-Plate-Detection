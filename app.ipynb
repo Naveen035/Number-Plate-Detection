{
 "cells": [
  {
   "cell_type": "code",
   "execution_count": 4,
   "metadata": {},
   "outputs": [
    {
     "name": "stdout",
     "output_type": "stream",
     "text": [
      "Collecting imutils\n",
      "  Using cached imutils-0.5.4-py3-none-any.whl\n",
      "Installing collected packages: imutils\n",
      "Successfully installed imutils-0.5.4\n",
      "Note: you may need to restart the kernel to use updated packages.\n"
     ]
    }
   ],
   "source": [
    "pip install imutils"
   ]
  },
  {
   "cell_type": "code",
   "execution_count": 5,
   "metadata": {},
   "outputs": [
    {
     "name": "stdout",
     "output_type": "stream",
     "text": [
      "Collecting pytesseract\n",
      "  Using cached pytesseract-0.3.13-py3-none-any.whl.metadata (11 kB)\n",
      "Requirement already satisfied: packaging>=21.3 in c:\\users\\jayas\\onedrive\\desktop\\new folder\\venv\\lib\\site-packages (from pytesseract) (24.1)\n",
      "Requirement already satisfied: Pillow>=8.0.0 in c:\\users\\jayas\\onedrive\\desktop\\new folder\\venv\\lib\\site-packages (from pytesseract) (10.4.0)\n",
      "Using cached pytesseract-0.3.13-py3-none-any.whl (14 kB)\n",
      "Installing collected packages: pytesseract\n",
      "Successfully installed pytesseract-0.3.13\n",
      "Note: you may need to restart the kernel to use updated packages.\n"
     ]
    }
   ],
   "source": [
    "pip install pytesseract"
   ]
  },
  {
   "cell_type": "code",
   "execution_count": 2,
   "metadata": {},
   "outputs": [],
   "source": [
    "import imutils\n",
    "import pytesseract\n"
   ]
  },
  {
   "cell_type": "code",
   "execution_count": 3,
   "metadata": {},
   "outputs": [],
   "source": [
    "import cv2"
   ]
  },
  {
   "cell_type": "code",
   "execution_count": 4,
   "metadata": {},
   "outputs": [],
   "source": [
    "pytesseract.pytesseract.tesseract_cmd = r\"C:\\Users\\jayas\\OneDrive\\Desktop\\New folder\\number_plate_detector\""
   ]
  },
  {
   "cell_type": "code",
   "execution_count": 6,
   "metadata": {},
   "outputs": [
    {
     "data": {
      "text/plain": [
       "-1"
      ]
     },
     "execution_count": 6,
     "metadata": {},
     "output_type": "execute_result"
    }
   ],
   "source": [
    "#Reading The Input image\n",
    "image = cv2.imread(r\"C:\\Users\\jayas\\OneDrive\\Desktop\\New folder\\number_plate_detector\\jeep.jpg\")\n",
    "resized_image = imutils.resize(image)\n",
    "cv2.imshow(\"Original Photo\",resized_image)\n",
    "cv2.waitKey(0)"
   ]
  },
  {
   "cell_type": "code",
   "execution_count": 7,
   "metadata": {},
   "outputs": [
    {
     "data": {
      "text/plain": [
       "-1"
      ]
     },
     "execution_count": 7,
     "metadata": {},
     "output_type": "execute_result"
    }
   ],
   "source": [
    "#making the gray image\n",
    "gray_image = cv2.cvtColor(resized_image,cv2.COLOR_BGR2GRAY)\n",
    "cv2.imshow(\"Grey Image\",gray_image)\n",
    "cv2.waitKey(0)"
   ]
  },
  {
   "cell_type": "code",
   "execution_count": 8,
   "metadata": {},
   "outputs": [
    {
     "data": {
      "text/plain": [
       "-1"
      ]
     },
     "execution_count": 8,
     "metadata": {},
     "output_type": "execute_result"
    }
   ],
   "source": [
    "#Making the image to be more smooth\n",
    "somooth_image = cv2.bilateralFilter(gray_image,11,17,9)\n",
    "cv2.imshow(\"Smooth Image\",somooth_image)\n",
    "cv2.waitKey(0)"
   ]
  },
  {
   "cell_type": "code",
   "execution_count": 10,
   "metadata": {},
   "outputs": [
    {
     "data": {
      "text/plain": [
       "-1"
      ]
     },
     "execution_count": 10,
     "metadata": {},
     "output_type": "execute_result"
    }
   ],
   "source": [
    "#making the Edge image\n",
    "edge_image = cv2.Canny(somooth_image,30,200)\n",
    "cv2.imshow(\"Edgeed_image\",edge_image)\n",
    "cv2.waitKey(0)"
   ]
  },
  {
   "cell_type": "code",
   "execution_count": 11,
   "metadata": {},
   "outputs": [
    {
     "data": {
      "text/plain": [
       "-1"
      ]
     },
     "execution_count": 11,
     "metadata": {},
     "output_type": "execute_result"
    }
   ],
   "source": [
    "#making the borders or countour image\n",
    "cnts,new = cv2.findContours(edge_image.copy(),cv2.RETR_LIST,cv2.CHAIN_APPROX_SIMPLE)\n",
    "image1 = image.copy() \n",
    "cv2.drawContours(image1,cnts,-1,(0,255,0),3)\n",
    "cv2.imshow(\"Boundaries\",image1)\n",
    "cv2.waitKey(0)"
   ]
  },
  {
   "cell_type": "code",
   "execution_count": 12,
   "metadata": {},
   "outputs": [
    {
     "data": {
      "text/plain": [
       "-1"
      ]
     },
     "execution_count": 12,
     "metadata": {},
     "output_type": "execute_result"
    }
   ],
   "source": [
    "#Displaying the only important boundaries\n",
    "cnts = sorted(cnts,key=cv2.contourArea,reverse=True)[:30]\n",
    "screencnt = None\n",
    "image2 = image.copy()\n",
    "cv2.drawContours(image2,cnts,-1,(0,255,0),3)\n",
    "cv2.imshow(\"Important Boundaries\",image2)\n",
    "cv2.waitKey(0)"
   ]
  },
  {
   "cell_type": "code",
   "execution_count": 13,
   "metadata": {},
   "outputs": [],
   "source": [
    "#Finding the number plate\n",
    "i = 7\n",
    "for c in cnts:\n",
    "    perimeter = cv2.arcLength(c,True)\n",
    "    approx = cv2.approxPolyDP(c,0.018*perimeter,True)\n",
    "    if len(approx) == 4:\n",
    "        screencnt = approx\n",
    "        x,y,w,h = cv2.boundingRect(c)\n",
    "        new_image = image[y:y+h,x:x+w]\n",
    "        cv2.imwrite('./'+str(i)+'.png',new_image)\n",
    "        i+=1\n",
    "        break"
   ]
  },
  {
   "cell_type": "code",
   "execution_count": 14,
   "metadata": {},
   "outputs": [],
   "source": [
    "#Displaying the Number Plate and also we will create a seperate number plate image\n",
    "cv2.drawContours(image,[screencnt],-1,(0,255,0),3)\n",
    "cv2.imshow(\"Number Plate\",image)\n",
    "cv2.waitKey(0)\n",
    "cv2.destroyAllWindows()"
   ]
  },
  {
   "cell_type": "code",
   "execution_count": null,
   "metadata": {},
   "outputs": [],
   "source": []
  }
 ],
 "metadata": {
  "kernelspec": {
   "display_name": "venv",
   "language": "python",
   "name": "python3"
  },
  "language_info": {
   "codemirror_mode": {
    "name": "ipython",
    "version": 3
   },
   "file_extension": ".py",
   "mimetype": "text/x-python",
   "name": "python",
   "nbconvert_exporter": "python",
   "pygments_lexer": "ipython3",
   "version": "3.12.7"
  }
 },
 "nbformat": 4,
 "nbformat_minor": 2
}
